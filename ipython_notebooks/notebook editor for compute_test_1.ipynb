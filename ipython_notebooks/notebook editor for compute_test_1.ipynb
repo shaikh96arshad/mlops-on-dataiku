{
  "nbformat": 4,
  "nbformat_minor": 0,
  "metadata": {
    "kernelspec": {
      "display_name": "Python 3",
      "language": "python",
      "name": "python3"
    },
    "associatedRecipe": "compute_test_1",
    "creator": "admin",
    "createdOn": 1693218709756,
    "tags": [
      "recipe-editor"
    ],
    "customFields": {}
  },
  "cells": [
    {
      "cell_type": "code",
      "metadata": {},
      "outputs": [],
      "execution_count": 0,
      "source": [
        "# -*- coding: utf-8 -*-\n",
        "import dataiku\n",
        "import pandas as pd, numpy as np\n",
        "from dataiku import pandasutils as pdu\n",
        "\n",
        "# Read recipe inputs\n",
        "covid19___orignal \u003d dataiku.Dataset(\"covid19___orignal\")\n",
        "covid19___orignal_df \u003d covid19___orignal.get_dataframe()\n",
        "\n",
        "\n",
        "# Compute recipe outputs from inputs\n",
        "# TODO: Replace this part by your actual code that computes the output, as a Pandas dataframe\n",
        "# NB: DSS also supports other kinds of APIs for reading and writing data. Please see doc.\n",
        "\n",
        "test_1_df \u003d covid19__orignal_df.head(3)\n",
        "\n",
        "test_1_df \u003d covid19___orignal_df # For this sample code, simply copy input to output\n",
        "\n",
        "\n",
        "# Write recipe outputs\n",
        "test_1 \u003d dataiku.Dataset(\"test_1\")\n",
        "test_1.write_with_schema(test_1_df)"
      ]
    }
  ]
}